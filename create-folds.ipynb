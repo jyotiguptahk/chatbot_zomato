{
 "cells": [
  {
   "cell_type": "code",
   "execution_count": 1,
   "id": "3df7b7f2",
   "metadata": {
    "execution": {
     "iopub.execute_input": "2021-12-29T07:10:51.507171Z",
     "iopub.status.busy": "2021-12-29T07:10:51.506020Z",
     "iopub.status.idle": "2021-12-29T07:10:51.510180Z",
     "shell.execute_reply": "2021-12-29T07:10:51.510649Z",
     "shell.execute_reply.started": "2021-12-29T06:51:51.337190Z"
    },
    "papermill": {
     "duration": 0.020225,
     "end_time": "2021-12-29T07:10:51.510912",
     "exception": false,
     "start_time": "2021-12-29T07:10:51.490687",
     "status": "completed"
    },
    "tags": []
   },
   "outputs": [],
   "source": [
    "#!pip install scikit-learn-intelex\n",
    "#from sklearnex import patch_sklearn\n",
    "#patch_sklearn()"
   ]
  },
  {
   "cell_type": "code",
   "execution_count": 2,
   "id": "cb18c64c",
   "metadata": {
    "_cell_guid": "b1076dfc-b9ad-4769-8c92-a6c4dae69d19",
    "_uuid": "8f2839f25d086af736a60e9eeb907d3b93b6e0e5",
    "execution": {
     "iopub.execute_input": "2021-12-29T07:10:51.536718Z",
     "iopub.status.busy": "2021-12-29T07:10:51.536107Z",
     "iopub.status.idle": "2021-12-29T07:10:52.816203Z",
     "shell.execute_reply": "2021-12-29T07:10:52.815576Z",
     "shell.execute_reply.started": "2021-12-29T06:56:02.920945Z"
    },
    "papermill": {
     "duration": 1.293479,
     "end_time": "2021-12-29T07:10:52.816351",
     "exception": false,
     "start_time": "2021-12-29T07:10:51.522872",
     "status": "completed"
    },
    "tags": []
   },
   "outputs": [],
   "source": [
    "# This Python 3 environment comes with many helpful analytics libraries installed\n",
    "# It is defined by the kaggle/python Docker image: https://github.com/kaggle/docker-python\n",
    "# For example, here's several helpful packages to load\n",
    "\n",
    "import numpy as np # linear algebra\n",
    "import pandas as pd # data processing, CSV file I/O (e.g. pd.read_csv)\n",
    "import seaborn as sns\n",
    "import matplotlib.pyplot as plt\n",
    "from sklearn.model_selection import StratifiedKFold\n",
    "NO_SPLITS = 5"
   ]
  },
  {
   "cell_type": "code",
   "execution_count": 3,
   "id": "7f6208b3",
   "metadata": {
    "execution": {
     "iopub.execute_input": "2021-12-29T07:10:52.843384Z",
     "iopub.status.busy": "2021-12-29T07:10:52.842694Z",
     "iopub.status.idle": "2021-12-29T07:11:20.556811Z",
     "shell.execute_reply": "2021-12-29T07:11:20.557318Z",
     "shell.execute_reply.started": "2021-12-29T06:56:06.572034Z"
    },
    "papermill": {
     "duration": 27.730362,
     "end_time": "2021-12-29T07:11:20.557525",
     "exception": false,
     "start_time": "2021-12-29T07:10:52.827163",
     "status": "completed"
    },
    "tags": []
   },
   "outputs": [],
   "source": [
    "df_train = pd.read_csv('/kaggle/input/tabular-playground-series-dec-2021/train.csv')"
   ]
  },
  {
   "cell_type": "code",
   "execution_count": 4,
   "id": "ea41cd94",
   "metadata": {
    "execution": {
     "iopub.execute_input": "2021-12-29T07:11:20.582730Z",
     "iopub.status.busy": "2021-12-29T07:11:20.582108Z",
     "iopub.status.idle": "2021-12-29T07:11:20.609603Z",
     "shell.execute_reply": "2021-12-29T07:11:20.610130Z",
     "shell.execute_reply.started": "2021-12-29T06:56:53.388144Z"
    },
    "papermill": {
     "duration": 0.041615,
     "end_time": "2021-12-29T07:11:20.610314",
     "exception": false,
     "start_time": "2021-12-29T07:11:20.568699",
     "status": "completed"
    },
    "tags": []
   },
   "outputs": [
    {
     "name": "stdout",
     "output_type": "stream",
     "text": [
      "<class 'pandas.core.frame.DataFrame'>\n",
      "RangeIndex: 4000000 entries, 0 to 3999999\n",
      "Data columns (total 56 columns):\n",
      " #   Column                              Dtype\n",
      "---  ------                              -----\n",
      " 0   Id                                  int64\n",
      " 1   Elevation                           int64\n",
      " 2   Aspect                              int64\n",
      " 3   Slope                               int64\n",
      " 4   Horizontal_Distance_To_Hydrology    int64\n",
      " 5   Vertical_Distance_To_Hydrology      int64\n",
      " 6   Horizontal_Distance_To_Roadways     int64\n",
      " 7   Hillshade_9am                       int64\n",
      " 8   Hillshade_Noon                      int64\n",
      " 9   Hillshade_3pm                       int64\n",
      " 10  Horizontal_Distance_To_Fire_Points  int64\n",
      " 11  Wilderness_Area1                    int64\n",
      " 12  Wilderness_Area2                    int64\n",
      " 13  Wilderness_Area3                    int64\n",
      " 14  Wilderness_Area4                    int64\n",
      " 15  Soil_Type1                          int64\n",
      " 16  Soil_Type2                          int64\n",
      " 17  Soil_Type3                          int64\n",
      " 18  Soil_Type4                          int64\n",
      " 19  Soil_Type5                          int64\n",
      " 20  Soil_Type6                          int64\n",
      " 21  Soil_Type7                          int64\n",
      " 22  Soil_Type8                          int64\n",
      " 23  Soil_Type9                          int64\n",
      " 24  Soil_Type10                         int64\n",
      " 25  Soil_Type11                         int64\n",
      " 26  Soil_Type12                         int64\n",
      " 27  Soil_Type13                         int64\n",
      " 28  Soil_Type14                         int64\n",
      " 29  Soil_Type15                         int64\n",
      " 30  Soil_Type16                         int64\n",
      " 31  Soil_Type17                         int64\n",
      " 32  Soil_Type18                         int64\n",
      " 33  Soil_Type19                         int64\n",
      " 34  Soil_Type20                         int64\n",
      " 35  Soil_Type21                         int64\n",
      " 36  Soil_Type22                         int64\n",
      " 37  Soil_Type23                         int64\n",
      " 38  Soil_Type24                         int64\n",
      " 39  Soil_Type25                         int64\n",
      " 40  Soil_Type26                         int64\n",
      " 41  Soil_Type27                         int64\n",
      " 42  Soil_Type28                         int64\n",
      " 43  Soil_Type29                         int64\n",
      " 44  Soil_Type30                         int64\n",
      " 45  Soil_Type31                         int64\n",
      " 46  Soil_Type32                         int64\n",
      " 47  Soil_Type33                         int64\n",
      " 48  Soil_Type34                         int64\n",
      " 49  Soil_Type35                         int64\n",
      " 50  Soil_Type36                         int64\n",
      " 51  Soil_Type37                         int64\n",
      " 52  Soil_Type38                         int64\n",
      " 53  Soil_Type39                         int64\n",
      " 54  Soil_Type40                         int64\n",
      " 55  Cover_Type                          int64\n",
      "dtypes: int64(56)\n",
      "memory usage: 1.7 GB\n"
     ]
    }
   ],
   "source": [
    "df_train.info()"
   ]
  },
  {
   "cell_type": "code",
   "execution_count": 5,
   "id": "aaf4be02",
   "metadata": {
    "execution": {
     "iopub.execute_input": "2021-12-29T07:11:20.637776Z",
     "iopub.status.busy": "2021-12-29T07:11:20.637125Z",
     "iopub.status.idle": "2021-12-29T07:11:21.135527Z",
     "shell.execute_reply": "2021-12-29T07:11:21.136049Z",
     "shell.execute_reply.started": "2021-12-29T06:56:58.175421Z"
    },
    "papermill": {
     "duration": 0.514162,
     "end_time": "2021-12-29T07:11:21.136233",
     "exception": false,
     "start_time": "2021-12-29T07:11:20.622071",
     "status": "completed"
    },
    "tags": []
   },
   "outputs": [
    {
     "name": "stderr",
     "output_type": "stream",
     "text": [
      "/opt/conda/lib/python3.7/site-packages/seaborn/_decorators.py:43: FutureWarning: Pass the following variable as a keyword arg: x. From version 0.12, the only valid positional argument will be `data`, and passing other arguments without an explicit keyword will result in an error or misinterpretation.\n",
      "  FutureWarning\n"
     ]
    },
    {
     "data": {
      "text/plain": [
       "<AxesSubplot:xlabel='Cover_Type', ylabel='count'>"
      ]
     },
     "execution_count": 5,
     "metadata": {},
     "output_type": "execute_result"
    },
    {
     "data": {
      "image/png": "[encoded data removed]",
      "text/plain": [
       "<Figure size 432x288 with 1 Axes>"
      ]
     },
     "metadata": {
      "needs_background": "light"
     },
     "output_type": "display_data"
    }
   ],
   "source": [
    "# Target distribution\n",
    "sns.countplot(df_train[\"Cover_Type\"])"
   ]
  },
  {
   "cell_type": "code",
   "execution_count": 6,
   "id": "93d7ea34",
   "metadata": {
    "execution": {
     "iopub.execute_input": "2021-12-29T07:11:21.164877Z",
     "iopub.status.busy": "2021-12-29T07:11:21.164267Z",
     "iopub.status.idle": "2021-12-29T07:11:21.169896Z",
     "shell.execute_reply": "2021-12-29T07:11:21.169381Z",
     "shell.execute_reply.started": "2021-12-29T06:57:49.300404Z"
    },
    "papermill": {
     "duration": 0.02117,
     "end_time": "2021-12-29T07:11:21.170073",
     "exception": false,
     "start_time": "2021-12-29T07:11:21.148903",
     "status": "completed"
    },
    "tags": []
   },
   "outputs": [],
   "source": [
    "def preprocessing(df):\n",
    "    ##### remove class 5 as it has only 1 sample\n",
    "    df.drop(df[df['Cover_Type'] == 5].index, inplace = True) # this has one observation\n",
    "    df.reset_index(drop=True, inplace=True)\n",
    "    return df"
   ]
  },
  {
   "cell_type": "code",
   "execution_count": 7,
   "id": "6f666cfe",
   "metadata": {
    "execution": {
     "iopub.execute_input": "2021-12-29T07:11:21.205343Z",
     "iopub.status.busy": "2021-12-29T07:11:21.204261Z",
     "iopub.status.idle": "2021-12-29T07:11:22.161480Z",
     "shell.execute_reply": "2021-12-29T07:11:22.162029Z",
     "shell.execute_reply.started": "2021-12-29T06:57:53.037902Z"
    },
    "papermill": {
     "duration": 0.979382,
     "end_time": "2021-12-29T07:11:22.162228",
     "exception": false,
     "start_time": "2021-12-29T07:11:21.182846",
     "status": "completed"
    },
    "tags": []
   },
   "outputs": [],
   "source": [
    "df_train = preprocessing(df_train)"
   ]
  },
  {
   "cell_type": "code",
   "execution_count": 8,
   "id": "70b3963f",
   "metadata": {
    "execution": {
     "iopub.execute_input": "2021-12-29T07:11:22.196257Z",
     "iopub.status.busy": "2021-12-29T07:11:22.195230Z",
     "iopub.status.idle": "2021-12-29T07:11:22.205226Z",
     "shell.execute_reply": "2021-12-29T07:11:22.205963Z",
     "shell.execute_reply.started": "2021-12-29T06:58:56.313108Z"
    },
    "papermill": {
     "duration": 0.030917,
     "end_time": "2021-12-29T07:11:22.206199",
     "exception": false,
     "start_time": "2021-12-29T07:11:22.175282",
     "status": "completed"
    },
    "tags": []
   },
   "outputs": [
    {
     "name": "stdout",
     "output_type": "stream",
     "text": [
      "<class 'pandas.core.frame.DataFrame'>\n",
      "RangeIndex: 3999999 entries, 0 to 3999998\n",
      "Data columns (total 56 columns):\n",
      " #   Column                              Dtype\n",
      "---  ------                              -----\n",
      " 0   Id                                  int64\n",
      " 1   Elevation                           int64\n",
      " 2   Aspect                              int64\n",
      " 3   Slope                               int64\n",
      " 4   Horizontal_Distance_To_Hydrology    int64\n",
      " 5   Vertical_Distance_To_Hydrology      int64\n",
      " 6   Horizontal_Distance_To_Roadways     int64\n",
      " 7   Hillshade_9am                       int64\n",
      " 8   Hillshade_Noon                      int64\n",
      " 9   Hillshade_3pm                       int64\n",
      " 10  Horizontal_Distance_To_Fire_Points  int64\n",
      " 11  Wilderness_Area1                    int64\n",
      " 12  Wilderness_Area2                    int64\n",
      " 13  Wilderness_Area3                    int64\n",
      " 14  Wilderness_Area4                    int64\n",
      " 15  Soil_Type1                          int64\n",
      " 16  Soil_Type2                          int64\n",
      " 17  Soil_Type3                          int64\n",
      " 18  Soil_Type4                          int64\n",
      " 19  Soil_Type5                          int64\n",
      " 20  Soil_Type6                          int64\n",
      " 21  Soil_Type7                          int64\n",
      " 22  Soil_Type8                          int64\n",
      " 23  Soil_Type9                          int64\n",
      " 24  Soil_Type10                         int64\n",
      " 25  Soil_Type11                         int64\n",
      " 26  Soil_Type12                         int64\n",
      " 27  Soil_Type13                         int64\n",
      " 28  Soil_Type14                         int64\n",
      " 29  Soil_Type15                         int64\n",
      " 30  Soil_Type16                         int64\n",
      " 31  Soil_Type17                         int64\n",
      " 32  Soil_Type18                         int64\n",
      " 33  Soil_Type19                         int64\n",
      " 34  Soil_Type20                         int64\n",
      " 35  Soil_Type21                         int64\n",
      " 36  Soil_Type22                         int64\n",
      " 37  Soil_Type23                         int64\n",
      " 38  Soil_Type24                         int64\n",
      " 39  Soil_Type25                         int64\n",
      " 40  Soil_Type26                         int64\n",
      " 41  Soil_Type27                         int64\n",
      " 42  Soil_Type28                         int64\n",
      " 43  Soil_Type29                         int64\n",
      " 44  Soil_Type30                         int64\n",
      " 45  Soil_Type31                         int64\n",
      " 46  Soil_Type32                         int64\n",
      " 47  Soil_Type33                         int64\n",
      " 48  Soil_Type34                         int64\n",
      " 49  Soil_Type35                         int64\n",
      " 50  Soil_Type36                         int64\n",
      " 51  Soil_Type37                         int64\n",
      " 52  Soil_Type38                         int64\n",
      " 53  Soil_Type39                         int64\n",
      " 54  Soil_Type40                         int64\n",
      " 55  Cover_Type                          int64\n",
      "dtypes: int64(56)\n",
      "memory usage: 1.7 GB\n"
     ]
    }
   ],
   "source": [
    "df_train.info()"
   ]
  },
  {
   "cell_type": "code",
   "execution_count": 9,
   "id": "8b2b4372",
   "metadata": {
    "execution": {
     "iopub.execute_input": "2021-12-29T07:11:22.236417Z",
     "iopub.status.busy": "2021-12-29T07:11:22.235764Z",
     "iopub.status.idle": "2021-12-29T07:11:22.262052Z",
     "shell.execute_reply": "2021-12-29T07:11:22.262523Z",
     "shell.execute_reply.started": "2021-12-29T06:59:01.778800Z"
    },
    "papermill": {
     "duration": 0.042513,
     "end_time": "2021-12-29T07:11:22.262699",
     "exception": false,
     "start_time": "2021-12-29T07:11:22.220186",
     "status": "completed"
    },
    "tags": []
   },
   "outputs": [
    {
     "data": {
      "text/plain": [
       "2    2262087\n",
       "1    1468136\n",
       "3     195712\n",
       "7      62261\n",
       "6      11426\n",
       "4        377\n",
       "Name: Cover_Type, dtype: int64"
      ]
     },
     "execution_count": 9,
     "metadata": {},
     "output_type": "execute_result"
    }
   ],
   "source": [
    "df_train[\"Cover_Type\"].value_counts()"
   ]
  },
  {
   "cell_type": "code",
   "execution_count": 10,
   "id": "5aac5a95",
   "metadata": {
    "execution": {
     "iopub.execute_input": "2021-12-29T07:11:22.292537Z",
     "iopub.status.busy": "2021-12-29T07:11:22.291780Z",
     "iopub.status.idle": "2021-12-29T07:11:23.628204Z",
     "shell.execute_reply": "2021-12-29T07:11:23.627598Z",
     "shell.execute_reply.started": "2021-12-29T06:59:04.809637Z"
    },
    "papermill": {
     "duration": 1.352379,
     "end_time": "2021-12-29T07:11:23.628356",
     "exception": false,
     "start_time": "2021-12-29T07:11:22.275977",
     "status": "completed"
    },
    "tags": []
   },
   "outputs": [],
   "source": [
    "# Create folds\n",
    "df_train[\"kfold\"] = -1\n",
    "y = df_train[\"Cover_Type\"]\n",
    "skf = StratifiedKFold(n_splits=NO_SPLITS, shuffle=True, random_state=42)\n",
    "for fold, (train_indicies, valid_indicies) in enumerate(skf.split(df_train,df_train[\"Cover_Type\"])):\n",
    "    df_train.loc[valid_indicies, \"kfold\"] = fold"
   ]
  },
  {
   "cell_type": "code",
   "execution_count": 11,
   "id": "ac720f4d",
   "metadata": {
    "execution": {
     "iopub.execute_input": "2021-12-29T07:11:23.659768Z",
     "iopub.status.busy": "2021-12-29T07:11:23.659125Z",
     "iopub.status.idle": "2021-12-29T07:11:23.685706Z",
     "shell.execute_reply": "2021-12-29T07:11:23.686213Z",
     "shell.execute_reply.started": "2021-12-29T07:02:10.256551Z"
    },
    "papermill": {
     "duration": 0.044408,
     "end_time": "2021-12-29T07:11:23.686388",
     "exception": false,
     "start_time": "2021-12-29T07:11:23.641980",
     "status": "completed"
    },
    "tags": []
   },
   "outputs": [
    {
     "data": {
      "text/plain": [
       "2    800000\n",
       "1    800000\n",
       "3    800000\n",
       "0    800000\n",
       "4    799999\n",
       "Name: kfold, dtype: int64"
      ]
     },
     "execution_count": 11,
     "metadata": {},
     "output_type": "execute_result"
    }
   ],
   "source": [
    "df_train[\"kfold\"].value_counts()"
   ]
  },
  {
   "cell_type": "code",
   "execution_count": 12,
   "id": "de660632",
   "metadata": {
    "execution": {
     "iopub.execute_input": "2021-12-29T07:11:23.716761Z",
     "iopub.status.busy": "2021-12-29T07:11:23.716165Z",
     "iopub.status.idle": "2021-12-29T07:12:18.696463Z",
     "shell.execute_reply": "2021-12-29T07:12:18.697062Z",
     "shell.execute_reply.started": "2021-12-29T07:02:15.499719Z"
    },
    "papermill": {
     "duration": 54.997186,
     "end_time": "2021-12-29T07:12:18.697265",
     "exception": false,
     "start_time": "2021-12-29T07:11:23.700079",
     "status": "completed"
    },
    "tags": []
   },
   "outputs": [],
   "source": [
    "df_train.to_csv(f\"train_folds_{NO_SPLITS}.csv\",index=False)"
   ]
  }
 ],
 "metadata": {
  "kernelspec": {
   "display_name": "Python 3",
   "language": "python",
   "name": "python3"
  },
  "language_info": {
   "codemirror_mode": {
    "name": "ipython",
    "version": 3
   },
   "file_extension": ".py",
   "mimetype": "text/x-python",
   "name": "python",
   "nbconvert_exporter": "python",
   "pygments_lexer": "ipython3",
   "version": "3.7.12"
  },
  "papermill": {
   "default_parameters": {},
   "duration": 98.572497,
   "end_time": "2021-12-29T07:12:19.522721",
   "environment_variables": {},
   "exception": null,
   "input_path": "__notebook__.ipynb",
   "output_path": "__notebook__.ipynb",
   "parameters": {},
   "start_time": "2021-12-29T07:10:40.950224",
   "version": "2.3.3"
  }
 },
 "nbformat": 4,
 "nbformat_minor": 5
}
